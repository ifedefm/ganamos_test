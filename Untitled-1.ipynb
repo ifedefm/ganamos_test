{
 "cells": [
  {
   "cell_type": "code",
   "execution_count": 2,
   "metadata": {},
   "outputs": [],
   "source": [
    "import requests\n",
    "import mercadopago"
   ]
  },
  {
   "cell_type": "code",
   "execution_count": 3,
   "metadata": {},
   "outputs": [],
   "source": [
    "def login_ganamos(usuario, contrasenia):\n",
    "    url = 'https://agents.ganamos.bet/api/user/login'\n",
    "\n",
    "    data = {\n",
    "    \"password\": '1111aaaa',\n",
    "    \"username\": 'adminflamingo'\n",
    "    }\n",
    "\n",
    "    headers = {\n",
    "    \"authority\": \"agents.ganamos.bet\",\n",
    "    \"method\": \"POST\",\n",
    "    \"path\": \"/api/user/login\",\n",
    "    \"scheme\": \"https\",\n",
    "    \"Accept\": \"application/json, text/plain, */*\",\n",
    "    \"Accept-Encoding\": \"gzip, deflate, br, zstd\",\n",
    "    \"Accept-Language\": \"es-ES,es;q=0.9,en;q=0.8\",\n",
    "    \"Cache-Control\": \"no-cache\",\n",
    "    \"Content-Length\": \"50\",\n",
    "    \"Content-Type\": \"application/json;charset=UTF-8\",\n",
    "    \"Origin\": \"https://agents.ganamos.bet\",\n",
    "    \"Pragma\": \"no-cache\",\n",
    "    \"Referer\": \"https://agents.ganamos.bet/\",\n",
    "    \"Sec-Ch-Ua\": \"\\\"Not A(Brand\\\";v=\\\"99\\\", \\\"Google Chrome\\\";v=\\\"121\\\", \\\"Chromium\\\";v=\\\"121\\\"\",\n",
    "    \"Sec-Ch-Ua-Mobile\": \"?0\",\n",
    "    \"Sec-Ch-Ua-Platform\": \"\\\"Windows\\\"\",\n",
    "    \"Sec-Fetch-Dest\": \"empty\",\n",
    "    \"Sec-Fetch-Mode\": \"cors\",\n",
    "    \"Sec-Fetch-Site\": \"same-origin\",\n",
    "    \"User-Agent\": \"Mozilla/5.0 (Windows NT 10.0; Win64; x64) AppleWebKit/537.36 (KHTML, like Gecko) Chrome/121.0.0.0 Safari/537.36\"\n",
    "    }\n",
    "\n",
    "    response = requests.post(url, json=data, headers=headers)\n",
    "    if response.status_code == 200:\n",
    "        session_id = response.cookies[\"session\"]\n",
    "\n",
    "    header_check = {\n",
    "    \"accept\": \"application/json, text/plain, */*\",\n",
    "    \"accept-encoding\": \"gzip, deflate, br, zstd\",\n",
    "    \"accept-language\": \"es-419,es;q=0.9,en;q=0.8,pt;q=0.7,it;q=0.6\",\n",
    "    \"priority\": \"u=1, i\",\n",
    "    \"referer\": \"https://agents.ganamos.bet/\",\n",
    "    \"sec-ch-ua\": \"\\\"Not)A;Brand\\\";v=\\\"99\\\", \\\"Google Chrome\\\";v=\\\"127\\\", \\\"Chromium\\\";v=\\\"127\\\"\",\n",
    "    \"sec-ch-ua-mobile\": \"?0\",\n",
    "    \"sec-ch-ua-platform\": \"\\\"Windows\\\"\",\n",
    "    \"sec-fetch-dest\": \"empty\",\n",
    "    \"sec-fetch-mode\": \"cors\",\n",
    "    \"sec-fetch-site\": \"same-origin\",\n",
    "    \"user-agent\": \"Mozilla/5.0 (Windows NT 10.0; Win64; x64) AppleWebKit/537.36 (KHTML, like Gecko) Chrome/127.0.0.0 Safari/537.36\",\n",
    "    'cookie': f'session={session_id}'\n",
    "    }\n",
    "    url_check = \"https://agents.ganamos.bet/api/user/check\"\n",
    "    response_check = requests.get(url_check, headers=header_check)\n",
    "    parent_id = response_check.json()['result']['id']\n",
    "    url_users = 'https://agents.ganamos.bet/api/agent_admin/user/'\n",
    "    params_users = {\n",
    "        'count': '10',\n",
    "        'page': '0',\n",
    "        'user_id': parent_id,\n",
    "        'is_banned': 'false',\n",
    "        'is_direct_structure': 'false'\n",
    "    }\n",
    "    response_users = requests.get(url_users, params=params_users, headers=header_check)\n",
    "    lista_usuarios = {x['username']:x['id'] for x in response_users.json()[\"result\"][\"users\"]}\n",
    "    return lista_usuarios, session_id\n",
    "\n",
    "def carga_ganamos(alias, monto, usuario, contrasenia):\n",
    "    usuarios, session_id= login_ganamos(usuario,contrasenia)\n",
    "    \n",
    "    id_usuario = usuarios[alias]\n",
    "    url_carga_ganamos = f'https://agents.ganamos.bet/api/agent_admin/user/{id_usuario}/payment/'\n",
    "\n",
    "    payload_carga = {\"operation\":0,\n",
    "                    \"amount\":monto}\n",
    "\n",
    "\n",
    "    header_carga = {\n",
    "    \"accept\": \"application/json, text/plain, */*\",\n",
    "    \"accept-encoding\": \"gzip, deflate, br, zstd\",\n",
    "    \"accept-language\": \"es-419,es;q=0.9,en;q=0.8,pt;q=0.7,it;q=0.6\",\n",
    "    \"priority\": \"u=1, i\",\n",
    "    \"referer\": \"https://agents.ganamos.bet/\",\n",
    "    \"sec-ch-ua\": \"\\\"Not)A;Brand\\\";v=\\\"99\\\", \\\"Google Chrome\\\";v=\\\"127\\\", \\\"Chromium\\\";v=\\\"127\\\"\",\n",
    "    \"sec-ch-ua-mobile\": \"?0\",\n",
    "    \"sec-ch-ua-platform\": \"\\\"Windows\\\"\",\n",
    "    \"sec-fetch-dest\": \"empty\",\n",
    "    \"sec-fetch-mode\": \"cors\",\n",
    "    \"sec-fetch-site\": \"same-origin\",\n",
    "    \"user-agent\": \"Mozilla/5.0 (Windows NT 10.0; Win64; x64) AppleWebKit/537.36 (KHTML, like Gecko) Chrome/127.0.0.0 Safari/537.36\",\n",
    "    'cookie': f'session={session_id}'\n",
    "    }\n",
    "\n",
    "    response_carga_ganamos = requests.post(url_carga_ganamos,json=payload_carga,headers=header_carga, cookies={'session':session_id})\n",
    "    \n",
    "    url_balance = 'https://agents.ganamos.bet/api/user/balance'\n",
    "    header_check= {\"accept\": \"application/json, text/plain, */*\",\n",
    "    \"accept-encoding\": \"gzip, deflate, br, zstd\",\n",
    "    \"accept-language\": \"es-419,es;q=0.9,en;q=0.8,pt;q=0.7,it;q=0.6\",\n",
    "    \"priority\": \"u=1, i\",\n",
    "    \"referer\": \"https://agents.ganamos.bet/\",\n",
    "    \"sec-ch-ua\": \"\\\"Not)A;Brand\\\";v=\\\"99\\\", \\\"Google Chrome\\\";v=\\\"127\\\", \\\"Chromium\\\";v=\\\"127\\\"\",\n",
    "    \"sec-ch-ua-mobile\": \"?0\",\n",
    "    \"sec-ch-ua-platform\": \"\\\"Windows\\\"\",\n",
    "    \"sec-fetch-dest\": \"empty\",\n",
    "    \"sec-fetch-mode\": \"cors\",\n",
    "    \"sec-fetch-site\": \"same-origin\",\n",
    "    \"user-agent\": \"Mozilla/5.0 (Windows NT 10.0; Win64; x64) AppleWebKit/537.36 (KHTML, like Gecko) Chrome/127.0.0.0 Safari/537.36\",\n",
    "    'cookie': f'session={session_id}'\n",
    "    }\n",
    "    response_balance = requests.get(url_balance, headers=header_check)\n",
    "    balance_ganamos = response_balance.json()['result']['balance']\n",
    "    if response_carga_ganamos.json()['error_message'] is None:\n",
    "        return True, balance_ganamos\n",
    "    else:\n",
    "         return False , balance_ganamos\n",
    "\n",
    "\n",
    "def solicitar_recarga(alias, monto, usuario, contrasenia, email):\n",
    "    sdk = mercadopago.SDK(\"APP_USR-7399764412139422-042622-5c8000e5a8932bbbdae5e8d418480e65-89912040\")  # token de MP\n",
    "\n",
    "    payment_data = {\n",
    "        \"transaction_amount\": monto,\n",
    "        \"description\": f\"Recarga de saldo para {alias}\",\n",
    "        \"payment_method_id\": \"pix\",  # Cambia según el método de pago deseado\n",
    "        \"payer\": {\n",
    "            \"email\": email  # Email del usuario que realiza la recarga\n",
    "        }\n",
    "    }\n",
    "\n",
    "    payment_response = sdk.payment().create(payment_data)\n",
    "    payment = payment_response[\"response\"]\n",
    "\n",
    "    if payment[\"status\"] == \"approved\":\n",
    "        print(f\"Pago aprobado: {payment['id']}\")\n",
    "        return carga_ganamos(alias, monto, usuario, contrasenia)  # Si el pago es exitoso, carga en ganamos.bet\n",
    "    else:\n",
    "        print(f\"Pago fallido: {payment['status']}\")\n",
    "        return False, None  # No se hace la recarga en caso de error"
   ]
  },
  {
   "cell_type": "code",
   "execution_count": null,
   "metadata": {},
   "outputs": [],
   "source": [
    "solicitar_recarga(\"usuario123\", 10 , \"usuario123\", \"password\", \"correo@example.com\")"
   ]
  },
  {
   "cell_type": "code",
   "execution_count": null,
   "metadata": {},
   "outputs": [],
   "source": [
    "payment"
   ]
  },
  {
   "cell_type": "code",
   "execution_count": 31,
   "metadata": {},
   "outputs": [],
   "source": [
    "sdk = mercadopago.SDK(\"APP_USR-7399764412139422-042622-5c8000e5a8932bbbdae5e8d418480e65-89912040\")  # token de MP\n",
    "\n",
    "payment_data = {\n",
    "    \"transaction_amount\": 10,\n",
    "    \"description\": f\"Recarga de saldo para testfede\",\n",
    "    \"payment_method_id\": \"visa\",  # Cambia según el método de pago deseado\n",
    "    \"payer\": {\n",
    "        \"email\": 'brpierotti@gmail.com'  # Email del usuario que realiza la recarga\n",
    "    }\n",
    "}\n",
    "\n",
    "payment_response = sdk.payment().create(payment_data)\n",
    "payment = payment_response[\"response\"]"
   ]
  },
  {
   "cell_type": "code",
   "execution_count": 32,
   "metadata": {},
   "outputs": [
    {
     "data": {
      "text/plain": [
       "{'status': 400,\n",
       " 'response': {'message': 'Cannot infer Payment Method',\n",
       "  'error': 'bad_request',\n",
       "  'status': 400,\n",
       "  'cause': [{'code': 2131,\n",
       "    'description': 'payment methods inference error',\n",
       "    'data': '26-03-2025T23:01:43UTC;d4f5b49f-4ea9-4b7e-b6d3-14894e54f59b'}]}}"
      ]
     },
     "execution_count": 32,
     "metadata": {},
     "output_type": "execute_result"
    }
   ],
   "source": [
    "payment_response"
   ]
  },
  {
   "cell_type": "code",
   "execution_count": null,
   "metadata": {},
   "outputs": [],
   "source": [
    "payment"
   ]
  },
  {
   "cell_type": "code",
   "execution_count": null,
   "metadata": {},
   "outputs": [],
   "source": [
    "import mercadopago\n",
    "\n",
    "sdk = mercadopago.SDK(\"APP_USR-8dbd0c08-99c2-4df4-8dd9-22f3a2eb9a2d\")\n",
    "payment_methods = sdk.payment_methods()\n",
    "print(payment_methods)"
   ]
  },
  {
   "cell_type": "code",
   "execution_count": 37,
   "metadata": {},
   "outputs": [
    {
     "name": "stdout",
     "output_type": "stream",
     "text": [
      "Métodos de pago habilitados:\n",
      "- cabal\n",
      "- maestro\n",
      "- visa\n",
      "- cmr\n",
      "- amex\n",
      "- argencard\n",
      "- debvisa\n",
      "- diners\n",
      "- visa\n",
      "- debcabal\n",
      "- debmaster\n",
      "- tarshop\n",
      "- master\n",
      "- master\n",
      "- naranja\n",
      "- pagofacil\n",
      "- rapipago\n"
     ]
    }
   ],
   "source": [
    "import requests\n",
    "\n",
    "# Tu access token\n",
    "access_token = 'APP_USR-7399764412139422-042622-5c8000e5a8932bbbdae5e8d418480e65-89912040'\n",
    "\n",
    "# URL para obtener los métodos de pago habilitados\n",
    "url = 'https://api.mercadopago.com/v1/payment_methods'\n",
    "\n",
    "# Cabeceras de la solicitud\n",
    "headers = {\n",
    "    'Authorization': f'Bearer {access_token}'\n",
    "}\n",
    "\n",
    "# Realizar la solicitud GET\n",
    "response = requests.get(url, headers=headers)\n",
    "\n",
    "# Comprobar si la solicitud fue exitosa\n",
    "if response.status_code == 200:\n",
    "    payment_methods = response.json()\n",
    "    print(\"Métodos de pago habilitados:\")\n",
    "    for method in payment_methods:\n",
    "        print(f\"- {method['id']}\")\n",
    "else:\n",
    "    print(f\"Error al obtener los métodos de pago: {response.status_code}\")\n"
   ]
  },
  {
   "cell_type": "code",
   "execution_count": 38,
   "metadata": {},
   "outputs": [],
   "source": [
    "import mercadopago\n",
    "\n",
    "sdk = mercadopago.SDK(\"APP_USR-7399764412139422-042622-5c8000e5a8932bbbdae5e8d418480e65-89912040\")  # Sustituye con tu access token\n",
    "\n",
    "monto = 100\n",
    "nombre = \"Juan\"\n",
    "email = 'brp226@hotmail.com'\n",
    "\n",
    "# Datos del pago\n",
    "payment_data = {\n",
    "    \"transaction_amount\": monto,\n",
    "    \"description\": f\"Recarga de saldo para {nombre}\",\n",
    "    \"payment_method_id\": \"master\",  # Puedes cambiarlo si necesitas otro método de pago\n",
    "    \"payer\": {\n",
    "        \"email\": email\n",
    "    }\n",
    "}\n",
    "\n",
    "# Crear el pago con la API de Mercado Pago\n",
    "payment_response = sdk.payment().create(payment_data)\n",
    "\n",
    "if payment_response[\"status\"] == 201:\n",
    "    # Obtén el link de pago para redirigir al usuario\n",
    "    payment = payment_response[\"response\"]\n"
   ]
  },
  {
   "cell_type": "code",
   "execution_count": 39,
   "metadata": {},
   "outputs": [
    {
     "data": {
      "text/plain": [
       "{'status': 400,\n",
       " 'response': {'message': 'Cannot infer Payment Method',\n",
       "  'error': 'bad_request',\n",
       "  'status': 400,\n",
       "  'cause': [{'code': 2131,\n",
       "    'description': 'payment methods inference error',\n",
       "    'data': '26-03-2025T23:06:24UTC;982b1849-b952-473e-8f02-87b845b79a3f'}]}}"
      ]
     },
     "execution_count": 39,
     "metadata": {},
     "output_type": "execute_result"
    }
   ],
   "source": [
    "payment_response"
   ]
  }
 ],
 "metadata": {
  "kernelspec": {
   "display_name": "Python 3",
   "language": "python",
   "name": "python3"
  },
  "language_info": {
   "codemirror_mode": {
    "name": "ipython",
    "version": 3
   },
   "file_extension": ".py",
   "mimetype": "text/x-python",
   "name": "python",
   "nbconvert_exporter": "python",
   "pygments_lexer": "ipython3",
   "version": "3.12.4"
  }
 },
 "nbformat": 4,
 "nbformat_minor": 2
}
